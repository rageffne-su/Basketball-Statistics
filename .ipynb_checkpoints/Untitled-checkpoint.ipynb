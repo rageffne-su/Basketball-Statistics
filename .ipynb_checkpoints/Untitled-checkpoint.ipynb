{
 "cells": [
  {
   "cell_type": "code",
   "execution_count": 2,
   "metadata": {},
   "outputs": [
    {
     "data": {
      "text/plain": [
       "'{\"resource\": \"playoffpicture\", \"parameters\": {\"LeagueID\": \"00\", \"SeasonID\": \"22018\"}, \"resultSets\": [{\"name\": \"EastConfPlayoffPicture\", \"headers\": [\"CONFERENCE\", \"HIGH_SEED_RANK\", \"HIGH_SEED_TEAM\", \"HIGH_SEED_TEAM_ID\", \"LOW_SEED_RANK\", \"LOW_SEED_TEAM\", \"LOW_SEED_TEAM_ID\", \"HIGH_SEED_SERIES_W\", \"HIGH_SEED_SERIES_L\", \"HIGH_SEED_SERIES_REMAINING_G\", \"HIGH_SEED_SERIES_REMAINING_HOME_G\", \"HIGH_SEED_SERIES_REMAINING_AWAY_G\"], \"rowSet\": [[\"East\", 1, \"Milwaukee                     \", 1610612749, 8, \"Detroit                       \", 1610612765, 4, 0, 0, 0, 0], [\"East\", 2, \"Toronto                       \", 1610612761, 7, \"Orlando                       \", 1610612753, 2, 2, 0, 0, 0], [\"East\", 3, \"Philadelphia                  \", 1610612755, 6, \"Brooklyn                      \", 1610612751, 2, 2, 0, 0, 0], [\"East\", 4, \"Boston                        \", 1610612738, 5, \"Indiana                       \", 1610612754, 3, 1, 0, 0, 0]]}, {\"name\": \"WestConfPlayoffPicture\", \"headers\": [\"CONFERENCE\", \"HIGH_SEED_RANK\", \"HIGH_SEED_TEAM\", \"HIGH_SEED_TEAM_ID\", \"LOW_SEED_RANK\", \"LOW_SEED_TEAM\", \"LOW_SEED_TEAM_ID\", \"HIGH_SEED_SERIES_W\", \"HIGH_SEED_SERIES_L\", \"HIGH_SEED_SERIES_REMAINING_G\", \"HIGH_SEED_SERIES_REMAINING_HOME_G\", \"HIGH_SEED_SERIES_REMAINING_AWAY_G\"], \"rowSet\": [[\"West\", 1, \"Golden State                  \", 1610612744, 8, \"LA Clippers                   \", 1610612746, 3, 1, 0, 0, 0], [\"West\", 2, \"Denver                        \", 1610612743, 7, \"San Antonio                   \", 1610612759, 2, 2, 0, 0, 0], [\"West\", 3, \"Portland                      \", 1610612757, 6, \"Oklahoma City                 \", 1610612760, 0, 4, 0, 0, 0], [\"West\", 4, \"Houston                       \", 1610612745, 5, \"Utah                          \", 1610612762, 2, 2, 0, 0, 0]]}, {\"name\": \"EastConfStandings\", \"headers\": [\"CONFERENCE\", \"RANK\", \"TEAM\", \"TEAM_ID\", \"WINS\", \"LOSSES\", \"PCT\", \"DIV\", \"CONF\", \"HOME\", \"AWAY\", \"GB\", \"GR_OVER_500\", \"GR_OVER_500_HOME\", \"GR_OVER_500_AWAY\", \"GR_UNDER_500\", \"GR_UNDER_500_HOME\", \"GR_UNDER_500_AWAY\", \"RANKING_CRITERIA\", \"CLINCHED_PLAYOFFS\", \"CLINCHED_CONFERENCE\", \"CLINCHED_DIVISION\", \"ELIMINATED_PLAYOFFS\", \"SOSA_REMAINING\"], \"rowSet\": [[\"East\", 1, \"Milwaukee                     \", 1610612749, 60, 22, 0.732, \"14-2 \", \"40-12\", \"33-8 \", \"27-14\", 0.0, 0, 0, 0, 0, 0, 0, 0, 1, 1, 1, 0, null], [\"East\", 2, \"Toronto                       \", 1610612761, 58, 24, 0.707, \"12-4 \", \"36-16\", \"32-9 \", \"26-15\", 2.0, 0, 0, 0, 0, 0, 0, 0, 1, 0, 1, 0, null], [\"East\", 3, \"Philadelphia                  \", 1610612755, 51, 31, 0.622, \"8-8  \", \"31-21\", \"31-10\", \"20-21\", 9.0, 0, 0, 0, 0, 0, 0, 0, 1, 0, 0, 0, null], [\"East\", 4, \"Boston                        \", 1610612738, 49, 33, 0.598, \"10-6 \", \"35-17\", \"28-13\", \"21-20\", 11.0, 0, 0, 0, 0, 0, 0, 0, 1, 0, 0, 0, null], [\"East\", 5, \"Indiana                       \", 1610612754, 48, 34, 0.585, \"11-5 \", \"33-19\", \"29-12\", \"19-22\", 12.0, 0, 0, 0, 0, 0, 0, 0, 1, 0, 0, 0, null], [\"East\", 6, \"Brooklyn                      \", 1610612751, 42, 40, 0.512, \"8-8  \", \"29-23\", \"23-18\", \"19-22\", 18.0, 0, 0, 0, 0, 0, 0, 1, 1, 0, 0, 0, null], [\"East\", 7, \"Orlando                       \", 1610612753, 42, 40, 0.512, \"10-6 \", \"30-22\", \"25-16\", \"17-24\", 18.0, 0, 0, 0, 0, 0, 0, 0, 1, 0, 1, 0, null], [\"East\", 8, \"Detroit                       \", 1610612765, 41, 41, 0.5, \"8-8  \", \"27-25\", \"26-15\", \"15-26\", 19.0, 0, 0, 0, 0, 0, 0, 0, 1, 0, 0, 0, null], [\"East\", 9, \"Charlotte                     \", 1610612766, 39, 43, 0.476, \"10-6 \", \"29-23\", \"25-16\", \"14-27\", 21.0, 0, 0, 0, 0, 0, 0, 3, 0, 0, 0, 1, null], [\"East\", 10, \"Miami                         \", 1610612748, 39, 43, 0.476, \"7-9  \", \"23-29\", \"19-22\", \"20-21\", 21.0, 0, 0, 0, 0, 0, 0, 0, 0, 0, 0, 1, null], [\"East\", 11, \"Washington                    \", 1610612764, 32, 50, 0.39, \"7-9  \", \"19-33\", \"22-19\", \"10-31\", 28.0, 0, 0, 0, 0, 0, 0, 0, 0, 0, 0, 1, null], [\"East\", 12, \"Atlanta                       \", 1610612737, 29, 53, 0.354, \"6-10 \", \"16-36\", \"17-24\", \"12-29\", 31.0, 0, 0, 0, 0, 0, 0, 0, 0, 0, 0, 1, null], [\"East\", 13, \"Chicago                       \", 1610612741, 22, 60, 0.268, \"3-13 \", \"16-36\", \"9-32 \", \"13-28\", 38.0, 0, 0, 0, 0, 0, 0, 0, 0, 0, 0, 1, null], [\"East\", 14, \"Cleveland                     \", 1610612739, 19, 63, 0.232, \"4-12 \", \"15-37\", \"13-28\", \"6-35 \", 41.0, 0, 0, 0, 0, 0, 0, 0, 0, 0, 0, 1, null], [\"East\", 15, \"New York                      \", 1610612752, 17, 65, 0.207, \"2-14 \", \"11-41\", \"9-32 \", \"8-33 \", 43.0, 0, 0, 0, 0, 0, 0, 0, 0, 0, 0, 1, null]]}, {\"name\": \"WestConfStandings\", \"headers\": [\"CONFERENCE\", \"RANK\", \"TEAM\", \"TEAM_ID\", \"WINS\", \"LOSSES\", \"PCT\", \"DIV\", \"CONF\", \"HOME\", \"AWAY\", \"GB\", \"GR_OVER_500\", \"GR_OVER_500_HOME\", \"GR_OVER_500_AWAY\", \"GR_UNDER_500\", \"GR_UNDER_500_HOME\", \"GR_UNDER_500_AWAY\", \"RANKING_CRITERIA\", \"CLINCHED_PLAYOFFS\", \"CLINCHED_CONFERENCE\", \"CLINCHED_DIVISION\", \"ELIMINATED_PLAYOFFS\", \"SOSA_REMAINING\"], \"rowSet\": [[\"West\", 1, \"Golden State                  \", 1610612744, 57, 25, 0.695, \"13-3 \", \"35-17\", \"30-11\", \"27-14\", 0.0, 0, 0, 0, 0, 0, 0, 0, 1, 1, 1, 0, null], [\"West\", 2, \"Denver                        \", 1610612743, 54, 28, 0.659, \"12-4 \", \"34-18\", \"34-7 \", \"20-21\", 3.0, 0, 0, 0, 0, 0, 0, 0, 1, 0, 1, 0, null], [\"West\", 3, \"Portland                      \", 1610612757, 53, 29, 0.646, \"6-10 \", \"29-23\", \"32-9 \", \"21-20\", 4.0, 0, 0, 0, 0, 0, 0, 1, 1, 0, 0, 0, null], [\"West\", 4, \"Houston                       \", 1610612745, 53, 29, 0.646, \"10-6 \", \"32-20\", \"31-10\", \"22-19\", 4.0, 0, 0, 0, 0, 0, 0, 0, 1, 0, 1, 0, null], [\"West\", 5, \"Utah                          \", 1610612762, 50, 32, 0.61, \"8-8  \", \"30-22\", \"29-12\", \"21-20\", 7.0, 0, 0, 0, 0, 0, 0, 0, 1, 0, 0, 0, null], [\"West\", 6, \"Oklahoma City                 \", 1610612760, 49, 33, 0.598, \"9-7  \", \"28-24\", \"27-14\", \"22-19\", 8.0, 0, 0, 0, 0, 0, 0, 0, 1, 0, 0, 0, null], [\"West\", 7, \"San Antonio                   \", 1610612759, 48, 34, 0.585, \"10-6 \", \"30-22\", \"32-9 \", \"16-25\", 9.0, 0, 0, 0, 0, 0, 0, 4, 1, 0, 0, 0, null], [\"West\", 8, \"LA Clippers                   \", 1610612746, 48, 34, 0.585, \"11-5 \", \"28-24\", \"26-15\", \"22-19\", 9.0, 0, 0, 0, 0, 0, 0, 0, 1, 0, 0, 0, null], [\"West\", 9, \"Sacramento                    \", 1610612758, 39, 43, 0.476, \"4-12 \", \"21-31\", \"24-17\", \"15-26\", 18.0, 0, 0, 0, 0, 0, 0, 0, 0, 0, 0, 1, null], [\"West\", 10, \"L.A. Lakers                   \", 1610612747, 37, 45, 0.451, \"9-7  \", \"25-27\", \"22-19\", \"15-26\", 20.0, 0, 0, 0, 0, 0, 0, 0, 0, 0, 0, 1, null], [\"West\", 11, \"Minnesota                     \", 1610612750, 36, 46, 0.439, \"5-11 \", \"22-30\", \"25-16\", \"11-30\", 21.0, 0, 0, 0, 0, 0, 0, 0, 0, 0, 0, 1, null], [\"West\", 12, \"Memphis                       \", 1610612763, 33, 49, 0.402, \"8-8  \", \"24-28\", \"21-20\", \"12-29\", 24.0, 0, 0, 0, 0, 0, 0, 4, 0, 0, 0, 1, null], [\"West\", 13, \"New Orleans                   \", 1610612740, 33, 49, 0.402, \"8-8  \", \"23-29\", \"19-22\", \"14-27\", 24.0, 0, 0, 0, 0, 0, 0, 2, 0, 0, 0, 1, null], [\"West\", 14, \"Dallas                        \", 1610612742, 33, 49, 0.402, \"4-12 \", \"18-34\", \"24-17\", \"9-32 \", 24.0, 0, 0, 0, 0, 0, 0, 0, 0, 0, 0, 1, null], [\"West\", 15, \"Phoenix                       \", 1610612756, 19, 63, 0.232, \"3-13 \", \"11-41\", \"12-29\", \"7-34 \", 38.0, 0, 0, 0, 0, 0, 0, 0, 0, 0, 0, 1, null]]}, {\"name\": \"EastConfRemainingGames\", \"headers\": [\"TEAM\", \"TEAM_ID\", \"REMAINING_G\", \"REMAINING_HOME_G\", \"REMAINING_AWAY_G\"], \"rowSet\": [[\"Atlanta                       \", 1610612737, 0, 0, 0], [\"Boston                        \", 1610612738, 0, 0, 0], [\"Brooklyn                      \", 1610612751, 0, 0, 0], [\"Charlotte                     \", 1610612766, 0, 0, 0], [\"Chicago                       \", 1610612741, 0, 0, 0], [\"Cleveland                     \", 1610612739, 0, 0, 0], [\"Detroit                       \", 1610612765, 0, 0, 0], [\"Indiana                       \", 1610612754, 0, 0, 0], [\"Miami                         \", 1610612748, 0, 0, 0], [\"Milwaukee                     \", 1610612749, 0, 0, 0], [\"New York                      \", 1610612752, 0, 0, 0], [\"Orlando                       \", 1610612753, 0, 0, 0], [\"Philadelphia                  \", 1610612755, 0, 0, 0], [\"Toronto                       \", 1610612761, 0, 0, 0], [\"Washington                    \", 1610612764, 0, 0, 0]]}, {\"name\": \"WestConfRemainingGames\", \"headers\": [\"TEAM\", \"TEAM_ID\", \"REMAINING_G\", \"REMAINING_HOME_G\", \"REMAINING_AWAY_G\"], \"rowSet\": [[\"Dallas                        \", 1610612742, 0, 0, 0], [\"Denver                        \", 1610612743, 0, 0, 0], [\"Golden State                  \", 1610612744, 0, 0, 0], [\"Houston                       \", 1610612745, 0, 0, 0], [\"L.A. Lakers                   \", 1610612747, 0, 0, 0], [\"LA Clippers                   \", 1610612746, 0, 0, 0], [\"Memphis                       \", 1610612763, 0, 0, 0], [\"Minnesota                     \", 1610612750, 0, 0, 0], [\"New Orleans                   \", 1610612740, 0, 0, 0], [\"Oklahoma City                 \", 1610612760, 0, 0, 0], [\"Phoenix                       \", 1610612756, 0, 0, 0], [\"Portland                      \", 1610612757, 0, 0, 0], [\"Sacramento                    \", 1610612758, 0, 0, 0], [\"San Antonio                   \", 1610612759, 0, 0, 0], [\"Utah                          \", 1610612762, 0, 0, 0]]}]}'"
      ]
     },
     "execution_count": 2,
     "metadata": {},
     "output_type": "execute_result"
    }
   ],
   "source": [
    "from nba_api.stats.endpoints import playoffpicture\n",
    "data = playoffpicture.PlayoffPicture(league_id=\"00\", season_id=\"22018\")\n",
    "data = data.get_json()\n",
    "data"
   ]
  },
  {
   "cell_type": "code",
   "execution_count": null,
   "metadata": {},
   "outputs": [],
   "source": []
  }
 ],
 "metadata": {
  "kernelspec": {
   "display_name": "Python 3",
   "language": "python",
   "name": "python3"
  },
  "language_info": {
   "codemirror_mode": {
    "name": "ipython",
    "version": 3
   },
   "file_extension": ".py",
   "mimetype": "text/x-python",
   "name": "python",
   "nbconvert_exporter": "python",
   "pygments_lexer": "ipython3",
   "version": "3.6.6"
  }
 },
 "nbformat": 4,
 "nbformat_minor": 2
}
