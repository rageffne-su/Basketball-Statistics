{
 "cells": [
  {
   "cell_type": "code",
   "execution_count": 4,
   "metadata": {},
   "outputs": [
    {
     "name": "stdout",
     "output_type": "stream",
     "text": [
      "Please enter the team name: Celtics\n",
      "Your team might do GOOD this coming year!\n"
     ]
    }
   ],
   "source": [
    "# imports for nba api\n",
    "from nba_api.stats.endpoints import playoffpicture\n",
    "from nba_api.stats.static import teams\n",
    "\n",
    "# Getting team name for searching\n",
    "team_name = input(\"Please enter the team name: \")\n",
    "team = teams.find_teams_by_full_name(team_name)\n",
    "# Getting team info and team id\n",
    "team = team[0]\n",
    "team_id = int(team['id'])\n",
    "# Pulling data from api and putting it into a dataframe\n",
    "data_2019 = playoffpicture.PlayoffPicture(league_id=\"00\", season_id=\"22018\")\n",
    "data_2018 = playoffpicture.PlayoffPicture(league_id=\"00\", season_id=\"22017\")\n",
    "df_2018 = data_2018.get_data_frames()\n",
    "df_2019 = data_2019.get_data_frames()\n",
    "# Getting the data out from the response\n",
    "east_2019 = df_2019[2]\n",
    "west_2019 = df_2019[3]\n",
    "east_2018 = df_2018[2]\n",
    "west_2018 = df_2018[3]\n",
    "# Checking to see if the team id is in both years for east\n",
    "if team_id in east_2019['TEAM_ID'].values and team_id in east_2018['TEAM_ID'].values:\n",
    "    team_info_2019 = east_2019[east_2019['TEAM_ID'] == team_id]\n",
    "    team_info_2018 = east_2018[east_2018['TEAM_ID'] == team_id]\n",
    "    if team_info_2019[['RANK']].values[0][0] < 8 and team_info_2018[['RANK']].values[0][0] < 8:\n",
    "        print(\"Your team might do GOOD this coming year!\")\n",
    "    else:\n",
    "        print(\"Your team might do BAD this coming year! (This is based on the 2018-2019 data from both playoffs)\", )\n",
    "# Checking to see if the team id is in both years for west\n",
    "elif team_id in west_2019['TEAM_ID'].values and team_id in west_2018['TEAM_ID'].values:\n",
    "    team_info_2019 = west_2019[west_2019['TEAM_ID'] == team_id]\n",
    "    team_info_2018 = west_2018[west_2018['TEAM_ID'] == team_id]\n",
    "    if team_info_2019[['RANK']].values[0][0] < 8 and team_info_2018[['RANK']].values[0][0] < 8:\n",
    "        print(\"Your team might do GOOD this coming year!\")\n",
    "    else:\n",
    "        print(\"Your team might do BAD this coming year!\")\n",
    "else:\n",
    "    print(\"That team didn't make the playoffs.\")"
   ]
  },
  {
   "cell_type": "code",
   "execution_count": null,
   "metadata": {},
   "outputs": [],
   "source": []
  },
  {
   "cell_type": "code",
   "execution_count": null,
   "metadata": {},
   "outputs": [],
   "source": []
  }
 ],
 "metadata": {
  "kernelspec": {
   "display_name": "Python 3",
   "language": "python",
   "name": "python3"
  },
  "language_info": {
   "codemirror_mode": {
    "name": "ipython",
    "version": 3
   },
   "file_extension": ".py",
   "mimetype": "text/x-python",
   "name": "python",
   "nbconvert_exporter": "python",
   "pygments_lexer": "ipython3",
   "version": "3.6.6"
  }
 },
 "nbformat": 4,
 "nbformat_minor": 2
}
